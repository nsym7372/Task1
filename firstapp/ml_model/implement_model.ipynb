{
 "metadata": {
  "language_info": {
   "codemirror_mode": {
    "name": "ipython",
    "version": 3
   },
   "file_extension": ".py",
   "mimetype": "text/x-python",
   "name": "python",
   "nbconvert_exporter": "python",
   "pygments_lexer": "ipython3",
   "version": "3.7.6-final"
  },
  "orig_nbformat": 2,
  "kernelspec": {
   "name": "Python 3.7.6 64-bit ('base': conda)",
   "display_name": "Python 3.7.6 64-bit ('base': conda)",
   "metadata": {
    "interpreter": {
     "hash": "e0fa32df09240578d33618ae9f55978bb244099e41dcb6a617524ee4978a2ed6"
    }
   }
  }
 },
 "nbformat": 4,
 "nbformat_minor": 2,
 "cells": [
  {
   "cell_type": "code",
   "execution_count": 1,
   "metadata": {},
   "outputs": [],
   "source": [
    "from PIL import Image"
   ]
  },
  {
   "cell_type": "code",
   "execution_count": 2,
   "metadata": {},
   "outputs": [],
   "source": [
    "from torchvision import transforms, datasets"
   ]
  },
  {
   "cell_type": "code",
   "execution_count": 3,
   "metadata": {},
   "outputs": [],
   "source": [
    "imsize = 256\n",
    "transform = transforms.Compose([\n",
    "    transforms.Resize((128, 128)),\n",
    "    transforms.ToTensor(),\n",
    "])"
   ]
  },
  {
   "cell_type": "code",
   "execution_count": 4,
   "metadata": {},
   "outputs": [
    {
     "output_type": "execute_result",
     "data": {
      "text/plain": "Dataset ImageFolder\n    Number of datapoints: 120\n    Root location: animal_images\n    StandardTransform\nTransform: Compose(\n               Resize(size=(128, 128), interpolation=PIL.Image.BILINEAR)\n               ToTensor()\n           )"
     },
     "metadata": {},
     "execution_count": 4
    }
   ],
   "source": [
    "dataset = datasets.ImageFolder('animal_images', transform)\n",
    "dataset"
   ]
  },
  {
   "cell_type": "code",
   "execution_count": 5,
   "metadata": {},
   "outputs": [],
   "source": [
    "import matplotlib.pyplot as plt"
   ]
  },
  {
   "cell_type": "code",
   "execution_count": 6,
   "metadata": {},
   "outputs": [],
   "source": [
    "n_train = int(len(dataset) * 0.7)\n",
    "n_val = len(dataset) - n_train "
   ]
  },
  {
   "cell_type": "code",
   "execution_count": 7,
   "metadata": {},
   "outputs": [],
   "source": [
    "import torch\n",
    "# import torchvision\n",
    "# import torchvision.transforms as transforms"
   ]
  },
  {
   "cell_type": "code",
   "execution_count": 8,
   "metadata": {},
   "outputs": [],
   "source": [
    "train, val = torch.utils.data.random_split(dataset, [n_train, n_val])"
   ]
  },
  {
   "cell_type": "code",
   "execution_count": 9,
   "metadata": {},
   "outputs": [],
   "source": [
    "# import torch.nn as nn\n",
    "\n",
    "\n",
    "import pytorch_lightning as pl\n",
    "from pytorch_lightning import Trainer"
   ]
  },
  {
   "cell_type": "code",
   "execution_count": 10,
   "metadata": {},
   "outputs": [],
   "source": [
    "from cnn_model import Net"
   ]
  },
  {
   "cell_type": "code",
   "execution_count": 11,
   "metadata": {},
   "outputs": [
    {
     "output_type": "execute_result",
     "data": {
      "text/plain": "(84, 36)"
     },
     "metadata": {},
     "execution_count": 11
    }
   ],
   "source": [
    "len(train), len(val)"
   ]
  },
  {
   "cell_type": "code",
   "execution_count": 12,
   "metadata": {
    "tags": []
   },
   "outputs": [
    {
     "output_type": "stream",
     "name": "stderr",
     "text": "GPU available: False, used: False\nTPU available: False, using: 0 TPU cores\n\n  | Name | Type        | Params\n-------------------------------------\n0 | conv | Conv2d      | 84    \n1 | pool | MaxPool2d   | 0     \n2 | bn   | BatchNorm1d | 24 K  \n3 | fc1  | Linear      | 1 M   \n4 | fc2  | Linear      | 404   \nEpoch 0:  60%|██████    | 3/5 [00:03<00:02,  1.02s/it, loss=5.301, v_num=10]\nValidating: 0it [00:00, ?it/s]\u001b[A\nEpoch 0: 100%|██████████| 5/5 [00:04<00:00,  1.06it/s, loss=5.301, v_num=10]\nEpoch 1:  60%|██████    | 3/5 [00:03<00:02,  1.06s/it, loss=5.371, v_num=10]\nValidating: 0it [00:00, ?it/s]\u001b[ASaving latest checkpoint..\nEpoch 1:  60%|██████    | 3/5 [00:04<00:02,  1.36s/it, loss=5.371, v_num=10]\n"
    },
    {
     "output_type": "execute_result",
     "data": {
      "text/plain": "1"
     },
     "metadata": {},
     "execution_count": 12
    }
   ],
   "source": [
    "# バッチサイズ\n",
    "batch_size = 32\n",
    "num_workers = 0\n",
    "\n",
    "train_loader = torch.utils.data.DataLoader(train, batch_size, num_workers=num_workers, shuffle=True)\n",
    "val_loader = torch.utils.data.DataLoader(val, batch_size, num_workers=num_workers)\n",
    "\n",
    "trainer = pl.Trainer(max_epochs=10)\n",
    "model = Net()\n",
    "\n",
    "trainer.fit(model, train_loader, val_loader)"
   ]
  },
  {
   "cell_type": "code",
   "execution_count": 13,
   "metadata": {},
   "outputs": [
    {
     "output_type": "execute_result",
     "data": {
      "text/plain": "{'val_loss': tensor(17.9251),\n 'val_acc': tensor(0.1875),\n 'loss': tensor(6.9409)}"
     },
     "metadata": {},
     "execution_count": 13
    }
   ],
   "source": [
    "trainer.callback_metrics"
   ]
  },
  {
   "cell_type": "code",
   "execution_count": 17,
   "metadata": {},
   "outputs": [],
   "source": [
    "import torch.nn.functional as F"
   ]
  },
  {
   "cell_type": "code",
   "execution_count": 19,
   "metadata": {
    "tags": []
   },
   "outputs": [],
   "source": [
    "model.eval()\n",
    "model.freeze()\n",
    "\n"
   ]
  },
  {
   "cell_type": "code",
   "execution_count": 21,
   "metadata": {
    "tags": []
   },
   "outputs": [
    {
     "output_type": "stream",
     "name": "stdout",
     "text": "tensor([[1.4011e-01, 1.3710e-18, 5.4827e-08, 8.5989e-01]])\n"
    },
    {
     "output_type": "execute_result",
     "data": {
      "text/plain": "(tensor(3),\n tensor([[[0.2549, 0.2549, 0.2431,  ..., 0.1961, 0.2235, 0.2353],\n          [0.2588, 0.2549, 0.2392,  ..., 0.2078, 0.2078, 0.2000],\n          [0.2471, 0.2471, 0.2275,  ..., 0.1804, 0.2000, 0.2157],\n          ...,\n          [0.1529, 0.1765, 0.1686,  ..., 0.3647, 0.3686, 0.4078],\n          [0.1686, 0.2039, 0.1686,  ..., 0.3569, 0.3569, 0.4275],\n          [0.2392, 0.2431, 0.2039,  ..., 0.3843, 0.4275, 0.4431]],\n \n         [[0.5059, 0.5059, 0.4980,  ..., 0.3686, 0.4000, 0.4078],\n          [0.5098, 0.5059, 0.4902,  ..., 0.3725, 0.3843, 0.3922],\n          [0.4980, 0.4941, 0.4745,  ..., 0.3451, 0.3725, 0.4039],\n          ...,\n          [0.3686, 0.3843, 0.4039,  ..., 0.6196, 0.6235, 0.6353],\n          [0.3725, 0.4078, 0.4000,  ..., 0.6000, 0.5961, 0.6392],\n          [0.4431, 0.4314, 0.3961,  ..., 0.5882, 0.6078, 0.6314]],\n \n         [[0.1765, 0.1765, 0.1608,  ..., 0.1490, 0.1725, 0.1765],\n          [0.1804, 0.1765, 0.1569,  ..., 0.1529, 0.1569, 0.1569],\n          [0.1686, 0.1686, 0.1529,  ..., 0.1255, 0.1451, 0.1686],\n          ...,\n          [0.0941, 0.1451, 0.1255,  ..., 0.2627, 0.2784, 0.2980],\n          [0.0941, 0.1647, 0.1216,  ..., 0.2392, 0.2471, 0.3098],\n          [0.1608, 0.1882, 0.1608,  ..., 0.2588, 0.3020, 0.3294]]]))"
     },
     "metadata": {},
     "execution_count": 21
    }
   ],
   "source": [
    "ret = F.softmax(model(dataset[60][0].unsqueeze(0)))\n",
    "print(ret)\n",
    "ret.argmax(), dataset[60][0]"
   ]
  },
  {
   "cell_type": "code",
   "execution_count": 43,
   "metadata": {},
   "outputs": [],
   "source": [
    "torch.save(model.to('cpu').state_dict(), 'trained.pth')"
   ]
  },
  {
   "cell_type": "code",
   "execution_count": null,
   "metadata": {},
   "outputs": [],
   "source": []
  }
 ]
}